{
 "cells": [
  {
   "cell_type": "code",
   "execution_count": 1,
   "metadata": {},
   "outputs": [],
   "source": [
    "from selenium import webdriver\n",
    "from selenium.webdriver.chrome.service import Service\n",
    "from selenium.webdriver.chrome.options import Options\n",
    "from selenium.webdriver.common.by import By\n",
    "import requests\n",
    "import pandas as pd\n",
    "from datetime import datetime\n",
    "import os\n",
    "import time"
   ]
  },
  {
   "cell_type": "code",
   "execution_count": 2,
   "metadata": {},
   "outputs": [],
   "source": [
    "driver = webdriver.Chrome()"
   ]
  },
  {
   "cell_type": "code",
   "execution_count": 3,
   "metadata": {},
   "outputs": [],
   "source": [
    "driver.get('https://rpachallengeocr.azurewebsites.net')"
   ]
  },
  {
   "cell_type": "code",
   "execution_count": 4,
   "metadata": {},
   "outputs": [],
   "source": [
    "def get_table_data():\n",
    "    data = []\n",
    "    while True:\n",
    "        table_rows = driver.find_elements(By.CSS_SELECTOR, 'table tbody tr')\n",
    "        for row in table_rows:\n",
    "            cols = row.find_elements(By.TAG_NAME, 'td')\n",
    "            if len(cols) >= 4:  # Verifica se há pelo menos 4 colunas\n",
    "                invoice_id = cols[0].text\n",
    "                number = cols[1].text\n",
    "                date = cols[2].text\n",
    "                url_element = cols[3].find_elements(By.TAG_NAME, 'a')\n",
    "                url = url_element[0].get_attribute('href') if url_element else None\n",
    "                data.append({\n",
    "                    'ID da Fatura': invoice_id,\n",
    "                    'Número da Fatura': number,\n",
    "                    'Data da Fatura': date,\n",
    "                    'URL da Fatura': url\n",
    "                })\n",
    "        \n",
    "        # Tenta encontrar o botão \"Próxima Página\"\n",
    "        try:\n",
    "            next_button = driver.find_element(By.CSS_SELECTOR, 'a.next')\n",
    "            if 'disabled' in next_button.get_attribute('class'):\n",
    "                break  # Se o botão estiver desabilitado, sai do loop\n",
    "            next_button.click()  # Clica no botão \"Próxima Página\"\n",
    "            time.sleep(2)  # Espera um pouco para a página carregar\n",
    "        except:\n",
    "            break  # Se não encontrar o botão, sai do loop\n",
    "    \n",
    "    return data"
   ]
  },
  {
   "cell_type": "code",
   "execution_count": 5,
   "metadata": {},
   "outputs": [],
   "source": [
    "def download_invoices(data, download_path):\n",
    "    if not os.path.exists(download_path):\n",
    "        os.makedirs(download_path)\n",
    "    \n",
    "    for item in data:\n",
    "        if item['URL da Fatura'] and datetime.strptime(item['Data da Fatura'], '%d-%m-%Y') <= datetime.now():\n",
    "            response = requests.get(item['URL da Fatura'])\n",
    "            file_name = os.path.join(download_path, f\"{item['ID da Fatura']}.jpg\")\n",
    "            with open(file_name, 'wb') as f:\n",
    "                f.write(response.content)"
   ]
  },
  {
   "cell_type": "code",
   "execution_count": null,
   "metadata": {},
   "outputs": [],
   "source": [
    "def filter_data(data, cutoff_date):\n",
    "    cutoff_date = datetime.strptime(cutoff_date, '%d-%m-%Y')\n",
    "    filtered_data = [item for item in data if datetime.strptime(item['Data da Fatura'], '%d-%m-%Y') <= cutoff_date]\n",
    "    return filtered_data"
   ]
  },
  {
   "cell_type": "code",
   "execution_count": 6,
   "metadata": {},
   "outputs": [],
   "source": [
    "def save_to_csv(data, csv_path):\n",
    "    df = pd.DataFrame(data)\n",
    "    df.to_csv(csv_path, index=False)"
   ]
  },
  {
   "cell_type": "code",
   "execution_count": 7,
   "metadata": {},
   "outputs": [],
   "source": [
    "data = get_table_data()"
   ]
  },
  {
   "cell_type": "code",
   "execution_count": 8,
   "metadata": {},
   "outputs": [],
   "source": [
    "filtered_data = filter_data(data, '01-08-2024')"
   ]
  },
  {
   "cell_type": "code",
   "execution_count": 9,
   "metadata": {},
   "outputs": [],
   "source": [
    "download_invoices(filtered_data, 'faturas')"
   ]
  },
  {
   "cell_type": "code",
   "execution_count": null,
   "metadata": {},
   "outputs": [],
   "source": [
    "save_to_csv(filtered_data, 'faturas.csv')"
   ]
  }
 ],
 "metadata": {
  "kernelspec": {
   "display_name": "venv",
   "language": "python",
   "name": "python3"
  },
  "language_info": {
   "codemirror_mode": {
    "name": "ipython",
    "version": 3
   },
   "file_extension": ".py",
   "mimetype": "text/x-python",
   "name": "python",
   "nbconvert_exporter": "python",
   "pygments_lexer": "ipython3",
   "version": "3.11.0"
  }
 },
 "nbformat": 4,
 "nbformat_minor": 2
}
